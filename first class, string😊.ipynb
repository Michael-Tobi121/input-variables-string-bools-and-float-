{
 "cells": [
  {
   "cell_type": "code",
   "execution_count": 6,
   "id": "33e3bab5",
   "metadata": {},
   "outputs": [
    {
     "name": "stdout",
     "output_type": "stream",
     "text": [
      "jojo 12345\n",
      "54\n"
     ]
    },
    {
     "data": {
      "text/plain": [
       "54"
      ]
     },
     "execution_count": 6,
     "metadata": {},
     "output_type": "execute_result"
    }
   ],
   "source": [
    "#  working on string concatenation , it means adding, sting conca only work for  str, to use other data type u have to convert\n",
    "username = 'jojo'\n",
    "password = str(12345)\n",
    "newFile = username +' '+ password\n",
    "print(newFile)\n",
    "# Augmented assignment, is a short form of adding operators\n",
    "someValue = 44\n",
    "someValue = someValue + 10\n",
    "print(someValue)\n",
    "   # or \n",
    "#someValue +=  + -,* /\n",
    "someValue"
   ]
  },
  {
   "cell_type": "code",
   "execution_count": 19,
   "id": "f1362306",
   "metadata": {},
   "outputs": [
    {
     "name": "stdout",
     "output_type": "stream",
     "text": [
      "Asake song 'LOADED' as been toping the list of song\n",
      " it's top the list In the next upcoming rated!\n",
      "young\n",
      "\"it's sunny\"hope you are fine\n",
      " i will call you when am back\n"
     ]
    }
   ],
   "source": [
    "# using escape sequence\n",
    "# \\n is for creating a newline\n",
    "# \\is used in a string were  you have more than a single string.\n",
    "# \\t is used for a creating a tab \n",
    "\n",
    "\n",
    "playlist = 'Asake song \\'LOADED\\' as been toping the list of song\\n it\\'s top the list In the next upcoming rated!'\n",
    "print(playlist)\n",
    "weather =    'young\\n\"it\\'s sunny\"hope you are fine\\n i will call you when am back' \n",
    "print(weather)"
   ]
  },
  {
   "cell_type": "code",
   "execution_count": 8,
   "id": "4606359d",
   "metadata": {},
   "outputs": [
    {
     "name": "stdout",
     "output_type": "stream",
     "text": [
      "<class 'float'>\n"
     ]
    }
   ],
   "source": [
    "print(type(float(str(90)))) # type conversion"
   ]
  },
  {
   "cell_type": "code",
   "execution_count": 7,
   "id": "8167d999",
   "metadata": {},
   "outputs": [
    {
     "name": "stdout",
     "output_type": "stream",
     "text": [
      "hello jojoowelcome, your score is:33\n"
     ]
    },
    {
     "data": {
      "text/plain": [
       "'hello jojoo, your game score is:33'"
      ]
     },
     "execution_count": 7,
     "metadata": {},
     "output_type": "execute_result"
    }
   ],
   "source": [
    "# formatted strings\n",
    "username = 'jojoo'\n",
    "score = 33\n",
    "print('hello '+ username + 'welcome, '+'your score is:' + str(score)) # this is too combosome, the f string was introduced.\n",
    "f'hello {username}, your game score is:{score}'"
   ]
  },
  {
   "cell_type": "code",
   "execution_count": 4,
   "id": "bcdde408",
   "metadata": {
    "scrolled": true
   },
   "outputs": [
    {
     "name": "stdout",
     "output_type": "stream",
     "text": [
      "m\n",
      "mono\n",
      "oo\n",
      "l\n",
      "75\n"
     ]
    },
    {
     "data": {
      "text/plain": [
       "'Togo :Russia'"
      ]
     },
     "execution_count": 4,
     "metadata": {},
     "output_type": "execute_result"
    }
   ],
   "source": [
    "#list slicing can be access using index, list are immutable , once you create it , it can not be change using index\n",
    "scrabble_word = 'monopoly'\n",
    "print(scrabble_word[0])\n",
    "print(scrabble_word[0:4])\n",
    "print(scrabble_word[1:5:2])\n",
    "print(scrabble_word[-2])\n",
    "scrabble_world = '01234567'\n",
    "print(scrabble_world[-1:-4:-2])\n",
    "country = 'Togo '\n",
    "country = country + ':Russia'\n",
    "country"
   ]
  },
  {
   "cell_type": "code",
   "execution_count": 1,
   "id": "942658f0",
   "metadata": {},
   "outputs": [
    {
     "name": "stdout",
     "output_type": "stream",
     "text": [
      "180\n",
      "ARGENTINA\n"
     ]
    }
   ],
   "source": [
    "chess_game = 'king,queen,pawn'\n",
    "\n",
    "print(len(chess_game)* 12)\n",
    "# built in fuction + method for string\n",
    "world_cup = 'Argentina'\n",
    "print(world_cup.upper())"
   ]
  },
  {
   "cell_type": "code",
   "execution_count": 8,
   "id": "b925d1c9",
   "metadata": {
    "scrolled": true
   },
   "outputs": [
    {
     "data": {
      "text/plain": [
       "['spring', 'summer', 'rain', 'fall']"
      ]
     },
     "execution_count": 8,
     "metadata": {},
     "output_type": "execute_result"
    }
   ],
   "source": [
    "weather = ['spring','summer','winter','fall']\n",
    "weather[2] = 'rain'\n",
    "weather2 = weather\n",
    "weather2"
   ]
  },
  {
   "cell_type": "code",
   "execution_count": 3,
   "id": "263cbf3a",
   "metadata": {},
   "outputs": [
    {
     "name": "stdout",
     "output_type": "stream",
     "text": [
      "uber1 state your name : jojo\n",
      " numbers of trip:7\n",
      " jojo,the total number of trip for this year is:7\n"
     ]
    }
   ],
   "source": [
    "uber1 = input('uber1 state your name :')\n",
    "round_trip =str(input(' numbers of trip:'))\n",
    "f'{uber1},the total number of trip for this year is:{round_trip}'"
   ]
  },
  {
   "cell_type": "code",
   "execution_count": 9,
   "id": "b1859bd4",
   "metadata": {},
   "outputs": [
    {
     "name": "stdout",
     "output_type": "stream",
     "text": [
      "False\n",
      "8\n",
      " Number of customers in  facebook increased by 50%\n"
     ]
    },
    {
     "data": {
      "text/plain": [
       "1"
      ]
     },
     "execution_count": 9,
     "metadata": {},
     "output_type": "execute_result"
    }
   ],
   "source": [
    "# string method\n",
    "profile = ''' Number of customers in amazon increased by 50%'''\n",
    "profile2 = profile.replace('amazon',' facebook')\n",
    "print('class' in profile)\n",
    "print(profile.find('of'))\n",
    "print(profile2)\n",
    "profile.count('customers')"
   ]
  }
 ],
 "metadata": {
  "kernelspec": {
   "display_name": "Python 3 (ipykernel)",
   "language": "python",
   "name": "python3"
  },
  "language_info": {
   "codemirror_mode": {
    "name": "ipython",
    "version": 3
   },
   "file_extension": ".py",
   "mimetype": "text/x-python",
   "name": "python",
   "nbconvert_exporter": "python",
   "pygments_lexer": "ipython3",
   "version": "3.9.13"
  }
 },
 "nbformat": 4,
 "nbformat_minor": 5
}
