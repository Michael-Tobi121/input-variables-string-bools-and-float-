{
 "cells": [
  {
   "cell_type": "markdown",
   "id": "c170acf4",
   "metadata": {
    "slideshow": {
     "slide_type": "skip"
    }
   },
   "source": [
    "# List"
   ]
  },
  {
   "cell_type": "code",
   "execution_count": 4,
   "id": "dc749420",
   "metadata": {
    "slideshow": {
     "slide_type": "skip"
    }
   },
   "outputs": [
    {
     "data": {
      "text/plain": [
       "['html', 'c#']"
      ]
     },
     "execution_count": 4,
     "metadata": {},
     "output_type": "execute_result"
    }
   ],
   "source": [
    "# list are mutable data structure, it means they can be changed. a list is created using [], seperated with comma, a list is a similar or different types of data.\n",
    "language=['python','html','c#','java']\n",
    "#     list index using list slicing\n",
    "language2 = language[1:3]\n",
    "language3 = language2[:]\n",
    "language3[1]=['react']\n",
    "language[:] = 'p','r','o','g','a','m'\n",
    "language2"
   ]
  },
  {
   "cell_type": "code",
   "execution_count": 73,
   "id": "138e86aa",
   "metadata": {
    "slideshow": {
     "slide_type": "skip"
    }
   },
   "outputs": [
    {
     "data": {
      "text/plain": [
       "['html', ['react']]"
      ]
     },
     "execution_count": 73,
     "metadata": {},
     "output_type": "execute_result"
    }
   ],
   "source": [
    "language3"
   ]
  },
  {
   "cell_type": "code",
   "execution_count": 5,
   "id": "50b0852a",
   "metadata": {
    "slideshow": {
     "slide_type": "skip"
    }
   },
   "outputs": [
    {
     "data": {
      "text/plain": [
       "['p', 'r', 'o', 'g']"
      ]
     },
     "execution_count": 5,
     "metadata": {},
     "output_type": "execute_result"
    }
   ],
   "source": [
    "language [:4]"
   ]
  },
  {
   "cell_type": "code",
   "execution_count": 75,
   "id": "a1811451",
   "metadata": {
    "slideshow": {
     "slide_type": "skip"
    }
   },
   "outputs": [
    {
     "data": {
      "text/plain": [
       "['socks', 'skateboard', 'tables', 'bicycle']"
      ]
     },
     "execution_count": 75,
     "metadata": {},
     "output_type": "execute_result"
    }
   ],
   "source": [
    "#adding using list method\n",
    "basket = ['socks','pen','tables','board']\n",
    "basket.append('bicycle')\n",
    "kids_stuffs = basket\n",
    "kids_stuffs.insert(1,'skateboard')\n",
    "kids_stuffs.remove('board')\n",
    "adult_stuffs = kids_stuffs.copy()\n",
    "adult_stuffs[1] = 'towel'\n",
    "adult_stuffs.insert(3,'gadget')\n",
    "adult_stuffs.extend(['mirror','extension'])\n",
    "basket.remove('pen')\n",
    "basket"
   ]
  },
  {
   "cell_type": "code",
   "execution_count": 76,
   "id": "7d51998b",
   "metadata": {
    "slideshow": {
     "slide_type": "skip"
    }
   },
   "outputs": [
    {
     "data": {
      "text/plain": [
       "['socks', 'skateboard', 'tables', 'bicycle']"
      ]
     },
     "execution_count": 76,
     "metadata": {},
     "output_type": "execute_result"
    }
   ],
   "source": [
    "kids_stuffs"
   ]
  },
  {
   "cell_type": "code",
   "execution_count": 71,
   "id": "76b2372f",
   "metadata": {
    "slideshow": {
     "slide_type": "skip"
    }
   },
   "outputs": [
    {
     "data": {
      "text/plain": [
       "['socks', 'towel', 'pen', 'gadget', 'tables', 'bicycle', 'mirror', 'extension']"
      ]
     },
     "execution_count": 71,
     "metadata": {},
     "output_type": "execute_result"
    }
   ],
   "source": [
    "adult_stuffs"
   ]
  },
  {
   "cell_type": "code",
   "execution_count": null,
   "id": "91f184e2",
   "metadata": {},
   "outputs": [],
   "source": [
    "# extending two list\n",
    "even_num = ['2','4','6']\n",
    "prime_num = ['7','9','11']\n",
    "even_num.extend(prime_num)\n",
    "print(even_num)"
   ]
  },
  {
   "cell_type": "code",
   "execution_count": 69,
   "id": "7cbacee1",
   "metadata": {},
   "outputs": [
    {
     "data": {
      "text/plain": [
       "3"
      ]
     },
     "execution_count": 69,
     "metadata": {},
     "output_type": "execute_result"
    }
   ],
   "source": [
    "# remove list\n",
    "food_items = ['bread','milk','milo']\n",
    "food_items.sort() # sort\n",
    "items = len(food_items)\n",
    "items"
   ]
  },
  {
   "cell_type": "code",
   "execution_count": 77,
   "id": "489c3eb1",
   "metadata": {},
   "outputs": [
    {
     "data": {
      "text/plain": [
       "['bread', 'milk', 'milo']"
      ]
     },
     "execution_count": 77,
     "metadata": {},
     "output_type": "execute_result"
    }
   ],
   "source": [
    "food_items"
   ]
  },
  {
   "cell_type": "code",
   "execution_count": 68,
   "id": "5fde9722",
   "metadata": {},
   "outputs": [
    {
     "data": {
      "text/plain": [
       "['pen drive', 'game_console', 'phone']"
      ]
     },
     "execution_count": 68,
     "metadata": {},
     "output_type": "execute_result"
    }
   ],
   "source": [
    "gadget = [ 'phone','game_console','headset','pen drive']\n",
    "gadget.reverse()\n",
    "gadget.remove('headset')\n",
    "gadget"
   ]
  },
  {
   "cell_type": "code",
   "execution_count": 80,
   "id": "a33c0036",
   "metadata": {},
   "outputs": [
    {
     "ename": "TypeError",
     "evalue": "'tuple' object does not support item assignment",
     "output_type": "error",
     "traceback": [
      "\u001b[1;31m---------------------------------------------------------------------------\u001b[0m",
      "\u001b[1;31mTypeError\u001b[0m                                 Traceback (most recent call last)",
      "\u001b[1;32m~\\AppData\\Local\\Temp\\ipykernel_7120\\2171982003.py\u001b[0m in \u001b[0;36m<module>\u001b[1;34m\u001b[0m\n\u001b[0;32m      5\u001b[0m \u001b[1;31m#it support slicing\u001b[0m\u001b[1;33m\u001b[0m\u001b[1;33m\u001b[0m\u001b[0m\n\u001b[0;32m      6\u001b[0m \u001b[0mmy_tuples\u001b[0m \u001b[1;33m=\u001b[0m \u001b[1;33m(\u001b[0m\u001b[1;36m1\u001b[0m\u001b[1;33m,\u001b[0m\u001b[1;36m2\u001b[0m\u001b[1;33m,\u001b[0m\u001b[1;36m3\u001b[0m\u001b[1;33m,\u001b[0m\u001b[1;36m4\u001b[0m\u001b[1;33m,\u001b[0m\u001b[1;36m5\u001b[0m\u001b[1;33m,\u001b[0m\u001b[1;36m6\u001b[0m\u001b[1;33m)\u001b[0m\u001b[1;33m\u001b[0m\u001b[1;33m\u001b[0m\u001b[0m\n\u001b[1;32m----> 7\u001b[1;33m \u001b[0mmy_tuples\u001b[0m\u001b[1;33m[\u001b[0m\u001b[1;36m3\u001b[0m\u001b[1;33m]\u001b[0m \u001b[1;33m=\u001b[0m \u001b[1;36m55\u001b[0m\u001b[1;33m\u001b[0m\u001b[1;33m\u001b[0m\u001b[0m\n\u001b[0m\u001b[0;32m      8\u001b[0m \u001b[0mmy_tuples\u001b[0m\u001b[1;33m\u001b[0m\u001b[1;33m\u001b[0m\u001b[0m\n",
      "\u001b[1;31mTypeError\u001b[0m: 'tuple' object does not support item assignment"
     ]
    }
   ],
   "source": []
  },
  {
   "cell_type": "code",
   "execution_count": 78,
   "id": "dd15c557",
   "metadata": {},
   "outputs": [
    {
     "name": "stdout",
     "output_type": "stream",
     "text": [
      "l\n",
      "a\n",
      "n\n",
      "g\n",
      "u\n",
      "a\n",
      "g\n",
      "e\n"
     ]
    }
   ],
   "source": [
    "# for loop\n",
    "for x in 'language':\n",
    "    print(x)"
   ]
  },
  {
   "cell_type": "markdown",
   "id": "dea7dba8",
   "metadata": {},
   "source": [
    "# Tuple"
   ]
  },
  {
   "cell_type": "code",
   "execution_count": null,
   "id": "efe85544",
   "metadata": {},
   "outputs": [],
   "source": [
    "# tuple are immutable,to print out a single element in a tuple u must end it with a comma :, \n",
    "#tuple can be used to store any of data types\n",
    "#tuple has 2 method index and count\n",
    "# tuple is denoted by ()\n",
    "#it support slicing\n",
    "my_tuples = (1,2,3,4,5,6)\n",
    "my_tuples[3] = 55     \n",
    "my_tuples  # it return TypeError cos tuple is immutable"
   ]
  },
  {
   "cell_type": "code",
   "execution_count": 28,
   "id": "4bef5510",
   "metadata": {},
   "outputs": [
    {
     "data": {
      "text/plain": [
       "'Angola'"
      ]
     },
     "execution_count": 28,
     "metadata": {},
     "output_type": "execute_result"
    }
   ],
   "source": [
    "list_number = [4,5,6,'England','Angola']\n",
    "my_tuples = tuple(list_number)\n",
    "my_tuples[4] "
   ]
  },
  {
   "cell_type": "code",
   "execution_count": 29,
   "id": "25e7c804",
   "metadata": {
    "scrolled": true
   },
   "outputs": [
    {
     "data": {
      "text/plain": [
       "True"
      ]
     },
     "execution_count": 29,
     "metadata": {},
     "output_type": "execute_result"
    }
   ],
   "source": [
    "'England' in list_number "
   ]
  },
  {
   "cell_type": "code",
   "execution_count": 43,
   "id": "b6c6225d",
   "metadata": {},
   "outputs": [
    {
     "name": "stdout",
     "output_type": "stream",
     "text": [
      "4\n",
      "5\n",
      "6\n",
      "England\n",
      "Angola\n"
     ]
    }
   ],
   "source": [
    "for x in my_tuples:\n",
    "    print(x)"
   ]
  },
  {
   "cell_type": "code",
   "execution_count": 1,
   "id": "1ad0431e",
   "metadata": {},
   "outputs": [
    {
     "data": {
      "text/plain": [
       "tuple"
      ]
     },
     "execution_count": 1,
     "metadata": {},
     "output_type": "execute_result"
    }
   ],
   "source": [
    "phones = 'iphone','samsung','lenovo'#packing tuples\n",
    "type(phones)"
   ]
  },
  {
   "cell_type": "code",
   "execution_count": 54,
   "id": "67014efd",
   "metadata": {},
   "outputs": [
    {
     "data": {
      "text/plain": [
       "('iphone', 'samsung', 'lenovo')"
      ]
     },
     "execution_count": 54,
     "metadata": {},
     "output_type": "execute_result"
    }
   ],
   "source": [
    "a,b,c = phones\n",
    "a,b,c"
   ]
  },
  {
   "cell_type": "code",
   "execution_count": 31,
   "id": "172076f4",
   "metadata": {},
   "outputs": [
    {
     "data": {
      "text/plain": [
       "1"
      ]
     },
     "execution_count": 31,
     "metadata": {},
     "output_type": "execute_result"
    }
   ],
   "source": [
    "a,b,c, *others = (1,2,3,4,5,6,7,8,22,3,234,56,43) # unpacking tuple using *astericks\n",
    "a"
   ]
  },
  {
   "cell_type": "code",
   "execution_count": 12,
   "id": "a5fe5ff8",
   "metadata": {},
   "outputs": [
    {
     "data": {
      "text/plain": [
       "2"
      ]
     },
     "execution_count": 12,
     "metadata": {},
     "output_type": "execute_result"
    }
   ],
   "source": [
    "b"
   ]
  },
  {
   "cell_type": "code",
   "execution_count": 14,
   "id": "3b1cb74b",
   "metadata": {},
   "outputs": [
    {
     "data": {
      "text/plain": [
       "[4, 5, 6, 7, 8, 22, 3, 234, 56, 43]"
      ]
     },
     "execution_count": 14,
     "metadata": {},
     "output_type": "execute_result"
    }
   ],
   "source": [
    "others"
   ]
  },
  {
   "cell_type": "code",
   "execution_count": 58,
   "id": "c71b9c2e",
   "metadata": {},
   "outputs": [
    {
     "data": {
      "text/plain": [
       "(33, 'jojo', 'male')"
      ]
     },
     "execution_count": 58,
     "metadata": {},
     "output_type": "execute_result"
    }
   ],
   "source": [
    "a = 33,'jojo','male' #pack values into variables\n",
    "age,name,sex = a #unpacking values a into vaiables\n",
    "a"
   ]
  },
  {
   "cell_type": "code",
   "execution_count": 59,
   "id": "ae1514a1",
   "metadata": {},
   "outputs": [
    {
     "data": {
      "text/plain": [
       "'jojo'"
      ]
     },
     "execution_count": 59,
     "metadata": {},
     "output_type": "execute_result"
    }
   ],
   "source": [
    "name"
   ]
  },
  {
   "cell_type": "code",
   "execution_count": 49,
   "id": "0c2685ab",
   "metadata": {},
   "outputs": [
    {
     "data": {
      "text/plain": [
       "21"
      ]
     },
     "execution_count": 49,
     "metadata": {},
     "output_type": "execute_result"
    }
   ],
   "source": [
    "november = (1,2,3,4,5,6,7,8,9,10,11,4,56,2,4,67)\n",
    "novvy = len(november)\n",
    "novvy += 5\n",
    "novvy"
   ]
  },
  {
   "cell_type": "code",
   "execution_count": 21,
   "id": "dc83520a",
   "metadata": {},
   "outputs": [
    {
     "data": {
      "text/plain": [
       "2"
      ]
     },
     "execution_count": 21,
     "metadata": {},
     "output_type": "execute_result"
    }
   ],
   "source": [
    "november.count(2) # count is used to know how many times am item occured"
   ]
  },
  {
   "cell_type": "code",
   "execution_count": 22,
   "id": "6f941592",
   "metadata": {},
   "outputs": [
    {
     "data": {
      "text/plain": [
       "1"
      ]
     },
     "execution_count": 22,
     "metadata": {},
     "output_type": "execute_result"
    }
   ],
   "source": [
    "november.index(2) # index is used to know , the first index of the same item"
   ]
  },
  {
   "cell_type": "markdown",
   "id": "d04a4cfd",
   "metadata": {},
   "source": [
    "# Tuple Exercise"
   ]
  },
  {
   "cell_type": "code",
   "execution_count": 45,
   "id": "a0dfeea6",
   "metadata": {},
   "outputs": [
    {
     "data": {
      "text/plain": [
       "(50, 40, 30, 20, 10)"
      ]
     },
     "execution_count": 45,
     "metadata": {},
     "output_type": "execute_result"
    }
   ],
   "source": [
    "# reverse the tuple\n",
    "tuple1 = (10,20,30,40,50)\n",
    "tuple1[::-1]"
   ]
  },
  {
   "cell_type": "code",
   "execution_count": 46,
   "id": "ba04386e",
   "metadata": {},
   "outputs": [
    {
     "data": {
      "text/plain": [
       "20"
      ]
     },
     "execution_count": 46,
     "metadata": {},
     "output_type": "execute_result"
    }
   ],
   "source": [
    "# access value 20 from the tuple\n",
    "tuple1 = ('orange',[10,20,30],(5,15,25))\n",
    "tuple1[1][1]"
   ]
  },
  {
   "cell_type": "code",
   "execution_count": 49,
   "id": "caddb19a",
   "metadata": {},
   "outputs": [
    {
     "data": {
      "text/plain": [
       "10"
      ]
     },
     "execution_count": 49,
     "metadata": {},
     "output_type": "execute_result"
    }
   ],
   "source": [
    "# unpack tuple\n",
    "tuple1 = (10,20,30,40)\n",
    "a,b,x,s = tuple1\n",
    "a"
   ]
  },
  {
   "cell_type": "code",
   "execution_count": 50,
   "id": "fd47b120",
   "metadata": {},
   "outputs": [
    {
     "data": {
      "text/plain": [
       "20"
      ]
     },
     "execution_count": 50,
     "metadata": {},
     "output_type": "execute_result"
    }
   ],
   "source": [
    "b"
   ]
  },
  {
   "cell_type": "code",
   "execution_count": 52,
   "id": "bd671ab8",
   "metadata": {},
   "outputs": [
    {
     "data": {
      "text/plain": [
       "30"
      ]
     },
     "execution_count": 52,
     "metadata": {},
     "output_type": "execute_result"
    }
   ],
   "source": [
    "x"
   ]
  },
  {
   "cell_type": "code",
   "execution_count": 51,
   "id": "39954fc7",
   "metadata": {},
   "outputs": [
    {
     "data": {
      "text/plain": [
       "40"
      ]
     },
     "execution_count": 51,
     "metadata": {},
     "output_type": "execute_result"
    }
   ],
   "source": [
    "s"
   ]
  },
  {
   "cell_type": "code",
   "execution_count": 55,
   "id": "acee031d",
   "metadata": {},
   "outputs": [
    {
     "data": {
      "text/plain": [
       "(99, 88)"
      ]
     },
     "execution_count": 55,
     "metadata": {},
     "output_type": "execute_result"
    }
   ],
   "source": [
    "# swap two tuples in python\n",
    "tuple1 =(11,22)\n",
    "tuple2 =(99,88)\n",
    "b,a= tuple1,tuple2\n",
    "a"
   ]
  },
  {
   "cell_type": "code",
   "execution_count": 56,
   "id": "66d48bfe",
   "metadata": {},
   "outputs": [
    {
     "data": {
      "text/plain": [
       "(11, 22)"
      ]
     },
     "execution_count": 56,
     "metadata": {},
     "output_type": "execute_result"
    }
   ],
   "source": [
    "b"
   ]
  },
  {
   "cell_type": "code",
   "execution_count": 58,
   "id": "7682fa8e",
   "metadata": {},
   "outputs": [
    {
     "data": {
      "text/plain": [
       "(44, 55)"
      ]
     },
     "execution_count": 58,
     "metadata": {},
     "output_type": "execute_result"
    }
   ],
   "source": [
    "# copy specific elements from one tuple to a new tuple 44 and 55\n",
    "tuple1 =(11,22,33,44,55,66)\n",
    "tuple11 = tuple1[3:5]\n",
    "tuple11"
   ]
  },
  {
   "cell_type": "code",
   "execution_count": 60,
   "id": "af36cdff",
   "metadata": {},
   "outputs": [
    {
     "data": {
      "text/plain": [
       "(11, [222, 33], 44, 55)"
      ]
     },
     "execution_count": 60,
     "metadata": {},
     "output_type": "execute_result"
    }
   ],
   "source": [
    "# modify the tuple 22 to 222\n",
    "tuple1 = (11,[22,33],44,55)\n",
    "tuple1[1][0] = 222\n",
    "tuple1"
   ]
  },
  {
   "cell_type": "markdown",
   "id": "830a71b2",
   "metadata": {},
   "source": [
    "# Set"
   ]
  },
  {
   "cell_type": "code",
   "execution_count": 24,
   "id": "7a094a1b",
   "metadata": {},
   "outputs": [],
   "source": [
    "#  set is a collection of unordered \n",
    "# set is denoted {}\n",
    "# set doesn't have duplicate\n",
    "# set can not be sliced"
   ]
  },
  {
   "cell_type": "code",
   "execution_count": 31,
   "id": "f5a52984",
   "metadata": {},
   "outputs": [
    {
     "ename": "TypeError",
     "evalue": "'set' object is not subscriptable",
     "output_type": "error",
     "traceback": [
      "\u001b[1;31m---------------------------------------------------------------------------\u001b[0m",
      "\u001b[1;31mTypeError\u001b[0m                                 Traceback (most recent call last)",
      "\u001b[1;32m~\\AppData\\Local\\Temp\\ipykernel_9892\\1450576479.py\u001b[0m in \u001b[0;36m<module>\u001b[1;34m\u001b[0m\n\u001b[0;32m      1\u001b[0m \u001b[0myour_set\u001b[0m \u001b[1;33m=\u001b[0m \u001b[1;33m{\u001b[0m\u001b[1;36m4\u001b[0m\u001b[1;33m,\u001b[0m\u001b[1;36m5\u001b[0m\u001b[1;33m,\u001b[0m\u001b[1;36m6\u001b[0m\u001b[1;33m,\u001b[0m\u001b[1;36m7\u001b[0m\u001b[1;33m,\u001b[0m\u001b[1;36m8\u001b[0m\u001b[1;33m,\u001b[0m\u001b[1;36m9\u001b[0m\u001b[1;33m,\u001b[0m\u001b[1;36m10\u001b[0m\u001b[1;33m}\u001b[0m\u001b[1;33m\u001b[0m\u001b[1;33m\u001b[0m\u001b[0m\n\u001b[1;32m----> 2\u001b[1;33m \u001b[0myour_set\u001b[0m\u001b[1;33m[\u001b[0m\u001b[1;36m4\u001b[0m\u001b[1;33m]\u001b[0m\u001b[1;33m\u001b[0m\u001b[1;33m\u001b[0m\u001b[0m\n\u001b[0m",
      "\u001b[1;31mTypeError\u001b[0m: 'set' object is not subscriptable"
     ]
    }
   ],
   "source": [
    "your_set = {4,5,6,7,8,9,10}\n",
    "your_set[4] # it return error COS u can't access set using slice"
   ]
  },
  {
   "cell_type": "code",
   "execution_count": 32,
   "id": "43e463bb",
   "metadata": {},
   "outputs": [
    {
     "data": {
      "text/plain": [
       "5"
      ]
     },
     "execution_count": 32,
     "metadata": {},
     "output_type": "execute_result"
    }
   ],
   "source": [
    "my_set = {1,2,2,3,4,4,5}\n",
    "len(my_set) #set is a unique item "
   ]
  },
  {
   "cell_type": "code",
   "execution_count": 31,
   "id": "23ffbd34",
   "metadata": {},
   "outputs": [
    {
     "data": {
      "text/plain": [
       "{1, 2, 3, 4, 5}"
      ]
     },
     "execution_count": 31,
     "metadata": {},
     "output_type": "execute_result"
    }
   ],
   "source": [
    "my_set"
   ]
  },
  {
   "cell_type": "code",
   "execution_count": 38,
   "id": "73febbb7",
   "metadata": {},
   "outputs": [
    {
     "data": {
      "text/plain": [
       "{1, 2, 3, 4, 5, 44}"
      ]
     },
     "execution_count": 38,
     "metadata": {},
     "output_type": "execute_result"
    }
   ],
   "source": [
    "my_set.add(44)\n",
    "my_set"
   ]
  },
  {
   "cell_type": "code",
   "execution_count": 5,
   "id": "9bcb474a",
   "metadata": {},
   "outputs": [
    {
     "data": {
      "text/plain": [
       "{10, 20, 40, 50, 60, 70}"
      ]
     },
     "execution_count": 5,
     "metadata": {},
     "output_type": "execute_result"
    }
   ],
   "source": [
    "# update allows u to add more than two objects in a set\n",
    "my_set = {10,50,70}\n",
    "my_set.update([20,40,60])\n",
    "my_set"
   ]
  },
  {
   "cell_type": "code",
   "execution_count": null,
   "id": "ae69f7f0",
   "metadata": {},
   "outputs": [],
   "source": [
    "# discard , remove , clear, del set\n",
    "my_set.remove(40) # allows u to remove an item in your set\n",
    "my_set"
   ]
  },
  {
   "cell_type": "code",
   "execution_count": 7,
   "id": "da53e041",
   "metadata": {},
   "outputs": [
    {
     "data": {
      "text/plain": [
       "{10, 20, 50, 60, 70}"
      ]
     },
     "execution_count": 7,
     "metadata": {},
     "output_type": "execute_result"
    }
   ],
   "source": [
    "my_set.discard(80)# discard allows you to remove an item that are not present in the set without returning an error unlike remove that returns error if an element is not in the value in place\n",
    "my_set"
   ]
  },
  {
   "cell_type": "code",
   "execution_count": 9,
   "id": "2cf8804a",
   "metadata": {},
   "outputs": [
    {
     "data": {
      "text/plain": [
       "set()"
      ]
     },
     "execution_count": 9,
     "metadata": {},
     "output_type": "execute_result"
    }
   ],
   "source": [
    "my_set.clear() # it clear all the set ,it output empty the set\n",
    "my_set"
   ]
  },
  {
   "cell_type": "code",
   "execution_count": null,
   "id": "8ec2eb29",
   "metadata": {},
   "outputs": [],
   "source": [
    "#  to check if an item is in a variable , u will use in \n",
    "# data method for set\n",
    "# .union() = |\n",
    "# .difference = -\n",
    "# .difference_update()\n",
    "# .intersect() = & \n",
    "# .intersection_update , it will update the variable set u calling \n",
    "# .disjoint()\n",
    "# .issuperset()\n",
    "# .issubset()"
   ]
  },
  {
   "cell_type": "code",
   "execution_count": 87,
   "id": "6838f25f",
   "metadata": {},
   "outputs": [
    {
     "data": {
      "text/plain": [
       "{1, 2, 3, 4, 6, 7, 12}"
      ]
     },
     "execution_count": 87,
     "metadata": {},
     "output_type": "execute_result"
    }
   ],
   "source": [
    "list_set = {3,4,5,6,1,2,1,1,}\n",
    "list_sets = {3,2,12,2,1,7,4,6}\n",
    "list_sets"
   ]
  },
  {
   "cell_type": "code",
   "execution_count": 88,
   "id": "2037edf9",
   "metadata": {},
   "outputs": [
    {
     "data": {
      "text/plain": [
       "{1, 2, 3, 4, 6, 7, 8, 12}"
      ]
     },
     "execution_count": 88,
     "metadata": {},
     "output_type": "execute_result"
    }
   ],
   "source": [
    "list_sets.add(8) \n",
    "list_sets.copy()\n",
    "l_sets = list_sets\n",
    "l_sets\n"
   ]
  },
  {
   "cell_type": "code",
   "execution_count": 89,
   "id": "355f4588",
   "metadata": {},
   "outputs": [
    {
     "data": {
      "text/plain": [
       "{1, 2, 3, 4, 6, 7, 8, 12}"
      ]
     },
     "execution_count": 89,
     "metadata": {},
     "output_type": "execute_result"
    }
   ],
   "source": [
    "list_sets"
   ]
  },
  {
   "cell_type": "code",
   "execution_count": 3,
   "id": "aa8452cd",
   "metadata": {},
   "outputs": [],
   "source": [
    "list_set = {}"
   ]
  },
  {
   "cell_type": "code",
   "execution_count": 35,
   "id": "9d5e1f26",
   "metadata": {},
   "outputs": [
    {
     "data": {
      "text/plain": [
       "{'red', 'yellow'}"
      ]
     },
     "execution_count": 35,
     "metadata": {},
     "output_type": "execute_result"
    }
   ],
   "source": [
    "#.difference ; it will return  the unique value on the set u are calling which is not in the other set  \n",
    "# .differnce doesn't update the origninal set;one_set.intersection(two_set)\n",
    "# it is denoted by - operator\n",
    "one_set = {'blue','green','yellow','red'}\n",
    "two_set = {'green','blue','white','black'}\n",
    "one_set.difference(two_set) # or one_set-two_set  = output ='yellow' , ' red'"
   ]
  },
  {
   "cell_type": "code",
   "execution_count": 4,
   "id": "e3fb2e80",
   "metadata": {},
   "outputs": [
    {
     "data": {
      "text/plain": [
       "{'blue', 'green', 'red', 'yellow'}"
      ]
     },
     "execution_count": 4,
     "metadata": {},
     "output_type": "execute_result"
    }
   ],
   "source": [
    "one_set  # orginal set  after.difference printing"
   ]
  },
  {
   "cell_type": "code",
   "execution_count": 34,
   "id": "6cb2c829",
   "metadata": {},
   "outputs": [
    {
     "data": {
      "text/plain": [
       "{'red', 'yellow'}"
      ]
     },
     "execution_count": 34,
     "metadata": {},
     "output_type": "execute_result"
    }
   ],
   "source": [
    "# difference_update will update the original set ;two_set.intersection_update(one_set)\n",
    "# when u print out the value in difference_update(it changes the original value)\n",
    "one_set = {'blue','green','yellow','red'}\n",
    "two_set = {'green','blue','white','black'}\n",
    "one_set.difference_update(two_set) \n",
    "one_set"
   ]
  },
  {
   "cell_type": "code",
   "execution_count": 19,
   "id": "688d086f",
   "metadata": {},
   "outputs": [
    {
     "data": {
      "text/plain": [
       "{'black', 'red', 'white', 'yellow'}"
      ]
     },
     "execution_count": 19,
     "metadata": {},
     "output_type": "execute_result"
    }
   ],
   "source": [
    "# symmetric difference , it return the unique differences in both sets. it is the opposite of intersection\n",
    "# it is denoted by ^ operator \n",
    "one_set = {'blue','green','yellow','red'}\n",
    "two_set = {'green','blue','white','black'}\n",
    "one_set.symmetric_difference(two_set) # one_set^(two_set)"
   ]
  },
  {
   "cell_type": "code",
   "execution_count": 15,
   "id": "a2c00790",
   "metadata": {},
   "outputs": [
    {
     "data": {
      "text/plain": [
       "{'blue', 'green', 'red', 'yellow'}"
      ]
     },
     "execution_count": 15,
     "metadata": {},
     "output_type": "execute_result"
    }
   ],
   "source": [
    "one_set   # orginal set return after printing"
   ]
  },
  {
   "cell_type": "code",
   "execution_count": 40,
   "id": "147877fb",
   "metadata": {},
   "outputs": [
    {
     "data": {
      "text/plain": [
       "{'black', 'red', 'white', 'yellow'}"
      ]
     },
     "execution_count": 40,
     "metadata": {},
     "output_type": "execute_result"
    }
   ],
   "source": [
    "one_set = {'blue','green','yellow','red'}\n",
    "two_set = {'green','blue','white','black'}\n",
    "one_set.symmetric_difference_update(two_set)\n",
    "one_set   # orginal set return after printing"
   ]
  },
  {
   "cell_type": "code",
   "execution_count": 38,
   "id": "635c6f36",
   "metadata": {},
   "outputs": [
    {
     "data": {
      "text/plain": [
       "{'black', 'blue', 'green', 'red', 'white', 'yellow'}"
      ]
     },
     "execution_count": 38,
     "metadata": {},
     "output_type": "execute_result"
    }
   ],
   "source": [
    "#.union() returns all value that are present inboth set , if it encounter a duplicate object ,only one of it will be pretend \n",
    "one_set.union(two_set) # or one_set|two_set "
   ]
  },
  {
   "cell_type": "code",
   "execution_count": 39,
   "id": "fc6d1f6d",
   "metadata": {},
   "outputs": [
    {
     "data": {
      "text/plain": [
       "{'blue', 'green'}"
      ]
     },
     "execution_count": 39,
     "metadata": {},
     "output_type": "execute_result"
    }
   ],
   "source": [
    "# .intersection() it will return the same element  in the same set \n",
    "#intersection  doesn't update the origninal set;one_set.intersection(two_set)\n",
    "#  when u print out the value in intersection it retun value\n",
    "one_set = {'blue','green','yellow','red'}\n",
    "two_set = {'green','blue','white','black'}\n",
    "one_set.intersection(two_set) #one_set & two_set = 'blue' , 'green'"
   ]
  },
  {
   "cell_type": "code",
   "execution_count": 12,
   "id": "f75f95ac",
   "metadata": {},
   "outputs": [
    {
     "data": {
      "text/plain": [
       "{'blue', 'green', 'red', 'yellow'}"
      ]
     },
     "execution_count": 12,
     "metadata": {},
     "output_type": "execute_result"
    }
   ],
   "source": [
    "one_set      # orginal set return after printing"
   ]
  },
  {
   "cell_type": "code",
   "execution_count": 27,
   "id": "f4d17d88",
   "metadata": {},
   "outputs": [
    {
     "data": {
      "text/plain": [
       "{'blue', 'green'}"
      ]
     },
     "execution_count": 27,
     "metadata": {},
     "output_type": "execute_result"
    }
   ],
   "source": [
    "#intersection_update will update the original set ;two_set.intersection_update(one_set)\n",
    "# when u print out the value in intersection_update it doesn't retun value\n",
    "\n",
    "one_set = {'blue','green','yellow','red'}\n",
    "two_set = {'green','blue','white','black'}\n",
    "two_set.intersection_update(one_set) # = it doesn't return value\n",
    "two_set # original set doesn't retun after printing"
   ]
  },
  {
   "cell_type": "code",
   "execution_count": 42,
   "id": "82345c3a",
   "metadata": {},
   "outputs": [
    {
     "data": {
      "text/plain": [
       "False"
      ]
     },
     "execution_count": 42,
     "metadata": {},
     "output_type": "execute_result"
    }
   ],
   "source": [
    "# issubset This method will return true if a set is a subset of another set otherwise, it will return false.\n",
    "# issuperset This method determines whether the set is a superset of another set.\n",
    "#isdisjoint it means whether two set are disjoint, it check what is not common \n",
    "soccer_player = {'messi','kante','halland','neymar'}\n",
    "soccer_player2 = {'halland','kante'}\n",
    "soccer_player.issubset(soccer_player2)"
   ]
  },
  {
   "cell_type": "code",
   "execution_count": 43,
   "id": "1a620a2d",
   "metadata": {},
   "outputs": [
    {
     "data": {
      "text/plain": [
       "True"
      ]
     },
     "execution_count": 43,
     "metadata": {},
     "output_type": "execute_result"
    }
   ],
   "source": [
    "soccer_player2.issubset(soccer_player)"
   ]
  },
  {
   "cell_type": "code",
   "execution_count": 44,
   "id": "f065cdc5",
   "metadata": {},
   "outputs": [
    {
     "data": {
      "text/plain": [
       "True"
      ]
     },
     "execution_count": 44,
     "metadata": {},
     "output_type": "execute_result"
    }
   ],
   "source": [
    "soccer_player.issuperset(soccer_player2)"
   ]
  },
  {
   "cell_type": "code",
   "execution_count": 46,
   "id": "0d0414ec",
   "metadata": {},
   "outputs": [
    {
     "data": {
      "text/plain": [
       "False"
      ]
     },
     "execution_count": 46,
     "metadata": {},
     "output_type": "execute_result"
    }
   ],
   "source": [
    "soccer_player2.issuperset(soccer_player)"
   ]
  },
  {
   "cell_type": "code",
   "execution_count": 47,
   "id": "32b6ea3e",
   "metadata": {},
   "outputs": [
    {
     "data": {
      "text/plain": [
       "True"
      ]
     },
     "execution_count": 47,
     "metadata": {},
     "output_type": "execute_result"
    }
   ],
   "source": [
    "#it returns true or false; if they don't have anythin in common it returns true , if disjoint it returns true\n",
    "num = {1,3,2,4,2,1,}\n",
    "num2 = {2,5,6,7}\n",
    "num3 = {3,8,9,}\n",
    "num3.isdisjoint(num2)"
   ]
  },
  {
   "cell_type": "code",
   "execution_count": 48,
   "id": "0f2c83f4",
   "metadata": {},
   "outputs": [
    {
     "data": {
      "text/plain": [
       "False"
      ]
     },
     "execution_count": 48,
     "metadata": {},
     "output_type": "execute_result"
    }
   ],
   "source": [
    "num2.isdisjoint(num) . "
   ]
  },
  {
   "cell_type": "code",
   "execution_count": 66,
   "id": "32d9be5b",
   "metadata": {},
   "outputs": [
    {
     "data": {
      "text/plain": [
       "{'black', 'blue', 'green', 'orange', 'red', 'yellow'}"
      ]
     },
     "execution_count": 66,
     "metadata": {},
     "output_type": "execute_result"
    }
   ],
   "source": [
    "simple_set = {'yellow','orange','black'}\n",
    "simple_list = ['blue','green','red']\n",
    "simple_set.update(simple_list)\n",
    "simple_set"
   ]
  },
  {
   "cell_type": "markdown",
   "id": "eb628e04",
   "metadata": {},
   "source": [
    "# Set Exercise"
   ]
  },
  {
   "cell_type": "code",
   "execution_count": 70,
   "id": "6fbcde4c",
   "metadata": {},
   "outputs": [
    {
     "data": {
      "text/plain": [
       "{30, 40, 50}"
      ]
     },
     "execution_count": 70,
     "metadata": {},
     "output_type": "execute_result"
    }
   ],
   "source": [
    "#return a new set of identical items from two sets\n",
    "set1 = {10, 20, 30, 40, 50}\n",
    "set2 = {30, 40, 50, 60, 70}\n",
    "set1.intersection(set2)"
   ]
  },
  {
   "cell_type": "code",
   "execution_count": 71,
   "id": "72e9da53",
   "metadata": {},
   "outputs": [
    {
     "data": {
      "text/plain": [
       "{10, 20, 30, 40, 50, 60, 70}"
      ]
     },
     "execution_count": 71,
     "metadata": {},
     "output_type": "execute_result"
    }
   ],
   "source": [
    "# Get Only unique items from two sets\n",
    "set1 = {10, 20, 30, 40, 50}\n",
    "set2 = {30, 40, 50, 60, 70}\n",
    "set1|set2"
   ]
  },
  {
   "cell_type": "code",
   "execution_count": 73,
   "id": "a38e4b9b",
   "metadata": {},
   "outputs": [
    {
     "data": {
      "text/plain": [
       "{10, 30}"
      ]
     },
     "execution_count": 73,
     "metadata": {},
     "output_type": "execute_result"
    }
   ],
   "source": [
    "#Update the first set with items that don’t exist in the second set\n",
    "set1 = {10, 20, 30}\n",
    "set2 = {20, 40, 50}\n",
    "set1.difference(set2)"
   ]
  },
  {
   "cell_type": "code",
   "execution_count": 12,
   "id": "b01e4d20",
   "metadata": {},
   "outputs": [
    {
     "data": {
      "text/plain": [
       "{40, 50}"
      ]
     },
     "execution_count": 12,
     "metadata": {},
     "output_type": "execute_result"
    }
   ],
   "source": [
    "# Write a Python program to remove items 10, 20, 30 from the following set at once.\n",
    "set1 = {10, 20, 30, 40, 50}\n",
    "set1.difference_update({10,20,30})\n",
    "set1"
   ]
  },
  {
   "cell_type": "code",
   "execution_count": 13,
   "id": "83bf4ed4",
   "metadata": {},
   "outputs": [
    {
     "data": {
      "text/plain": [
       "{10, 20, 30, 40, 50, 60, 70, 90}"
      ]
     },
     "execution_count": 13,
     "metadata": {},
     "output_type": "execute_result"
    }
   ],
   "source": [
    "set1 = {10, 20, 30, 40, 50}\n",
    "set1.update({60,70,90})\n",
    "set1"
   ]
  },
  {
   "cell_type": "code",
   "execution_count": 4,
   "id": "cd613c0d",
   "metadata": {},
   "outputs": [
    {
     "data": {
      "text/plain": [
       "{10, 20, 60, 70}"
      ]
     },
     "execution_count": 4,
     "metadata": {},
     "output_type": "execute_result"
    }
   ],
   "source": [
    " # Return a set of elements present in Set A or B, but not both\n",
    "set1 = {10, 20, 30, 40, 50}\n",
    "set2 = {30, 40, 50, 60, 70}\n",
    "set1.symmetric_difference(set2)"
   ]
  },
  {
   "cell_type": "code",
   "execution_count": 14,
   "id": "b63c0fba",
   "metadata": {},
   "outputs": [
    {
     "data": {
      "text/plain": [
       "{10}"
      ]
     },
     "execution_count": 14,
     "metadata": {},
     "output_type": "execute_result"
    }
   ],
   "source": [
    "#Check if two sets have any elements in common. If yes, display the common elements\n",
    "set1 = {10, 20, 30, 40, 50}\n",
    "set2 = {60, 70, 80, 90, 10}\n",
    "set1.intersection(set2)"
   ]
  },
  {
   "cell_type": "code",
   "execution_count": 22,
   "id": "b359057b",
   "metadata": {},
   "outputs": [
    {
     "data": {
      "text/plain": [
       "{10, 20, 60, 70}"
      ]
     },
     "execution_count": 22,
     "metadata": {},
     "output_type": "execute_result"
    }
   ],
   "source": [
    "#  Update set1 by adding items from set2, except common items\n",
    "set1 = {10, 20, 30, 40, 50}\n",
    "set2 = {30, 40, 50, 60, 70}\n",
    "set1.symmetric_difference_update(set2)\n",
    "set1"
   ]
  },
  {
   "cell_type": "code",
   "execution_count": 3,
   "id": "18a41807",
   "metadata": {},
   "outputs": [
    {
     "data": {
      "text/plain": [
       "{30, 40, 50}"
      ]
     },
     "execution_count": 3,
     "metadata": {},
     "output_type": "execute_result"
    }
   ],
   "source": [
    "# Remove items from set1 that are not common to both set1 and set2\n",
    "set1 = {10, 20, 30, 40, 50}\n",
    "set2 = {30, 40, 50, 60, 70}\n",
    "set1.intersection_update(set2)\n",
    "set1"
   ]
  },
  {
   "cell_type": "markdown",
   "id": "f6a306eb",
   "metadata": {},
   "source": [
    "# Dictionary"
   ]
  },
  {
   "cell_type": "code",
   "execution_count": 9,
   "id": "9355a21f",
   "metadata": {},
   "outputs": [
    {
     "name": "stdout",
     "output_type": "stream",
     "text": [
      "{'Nigeria': 'Africa', 'China': 'Asia', 'Spain': 'Europe'}\n",
      "True\n"
     ]
    },
    {
     "data": {
      "text/plain": [
       "{'jojo': 12, 'michael': 10, 'zoe': 15, 'michelle': 17}"
      ]
     },
     "execution_count": 9,
     "metadata": {},
     "output_type": "execute_result"
    }
   ],
   "source": [
    "# dictionary are ordered collection of items. it element are store in key and values pair\n",
    "# dictionary keys are unique identifiers that are associated to its values\n",
    "#dictionary can be stored in any data type . unless it keys can not be stored in list\n",
    "# dict are mutable \n",
    "\n",
    "#dictionary are denoted by curly braces {}\n",
    "#storing information abouta location and student info\n",
    "location = {'Nigeria':'Africa','China':'Asia','Spain':'Europe'}\n",
    "print(location)\n",
    "\n",
    "# using in function \n",
    "print('China' in location)\n",
    "\n",
    "#dictionary are denoted by dict()\n",
    "student_info = dict([('jojo',12),('michael',10),('zoe',15),('michelle',17)])# it not really common in creating a dict\n",
    "student_info"
   ]
  },
  {
   "cell_type": "code",
   "execution_count": 4,
   "id": "51a7ff25",
   "metadata": {},
   "outputs": [
    {
     "name": "stdout",
     "output_type": "stream",
     "text": [
      "Africa\n"
     ]
    },
    {
     "data": {
      "text/plain": [
       "17"
      ]
     },
     "execution_count": 4,
     "metadata": {},
     "output_type": "execute_result"
    }
   ],
   "source": [
    "# accesing list \n",
    "\n",
    "print(location['Nigeria'])\n",
    "student_info.get('michelle') # to avoid error use get."
   ]
  },
  {
   "cell_type": "code",
   "execution_count": 1,
   "id": "dce4dfd8",
   "metadata": {},
   "outputs": [
    {
     "data": {
      "text/plain": [
       "dict_keys(['ash', 'bright', 'max', 'stan'])"
      ]
     },
     "execution_count": 1,
     "metadata": {},
     "output_type": "execute_result"
    }
   ],
   "source": [
    "# dictionary method\n",
    "# keys ; returns all keys in dict as tuples\n",
    "\n",
    "student_score_mark = {'ash': '100%','bright':'55%','max':'78%','stan':'20%'}\n",
    "student_score_mark.keys()"
   ]
  },
  {
   "cell_type": "code",
   "execution_count": 35,
   "id": "b94f4a15",
   "metadata": {},
   "outputs": [
    {
     "data": {
      "text/plain": [
       "dict_values(['55%', '55%', '78%', '20%'])"
      ]
     },
     "execution_count": 35,
     "metadata": {},
     "output_type": "execute_result"
    }
   ],
   "source": [
    "#values return all values in dict as tuples\n",
    "student_score_mark.values()"
   ]
  },
  {
   "cell_type": "code",
   "execution_count": 36,
   "id": "bca3f7e5",
   "metadata": {},
   "outputs": [
    {
     "data": {
      "text/plain": [
       "dict_items([('ash', '55%'), ('bright', '55%'), ('max', '78%'), ('stan', '20%')])"
      ]
     },
     "execution_count": 36,
     "metadata": {},
     "output_type": "execute_result"
    }
   ],
   "source": [
    "#items return all items|element in the dict, it return as a tuple just like keys-values\n",
    "student_score_mark.items()"
   ]
  },
  {
   "cell_type": "code",
   "execution_count": 46,
   "id": "91aae7b4",
   "metadata": {},
   "outputs": [
    {
     "data": {
      "text/plain": [
       "{'asake': 'loaded',\n",
       " 'seyi vibez': 'ku fa ya kun',\n",
       " 'wizkid': 'balance',\n",
       " 'tobi': '1 track'}"
      ]
     },
     "execution_count": 46,
     "metadata": {},
     "output_type": "execute_result"
    }
   ],
   "source": [
    "# Adding items to dictionary and modifying\n",
    "Artist = {'asake':'loaded','seyi vibez':'ku fa ya kun','wizkid':'balance', 'tobi': None}\n",
    "Artist['tobi']= '1 track'\n",
    "Artist"
   ]
  },
  {
   "cell_type": "code",
   "execution_count": 48,
   "id": "bc1ff5aa",
   "metadata": {},
   "outputs": [
    {
     "data": {
      "text/plain": [
       "{'asake': 'loaded',\n",
       " 'seyi vibez': 'ku fa ya kun',\n",
       " 'wizkid': 'balance',\n",
       " 'tobi': '1 track',\n",
       " 'nates': 'love more',\n",
       " 'bella shumrda': 'vision 2020'}"
      ]
     },
     "execution_count": 48,
     "metadata": {},
     "output_type": "execute_result"
    }
   ],
   "source": [
    "Artist.update({'nates':'love more','bella shumrda':'vision 2020'})\n",
    "Artist"
   ]
  },
  {
   "cell_type": "code",
   "execution_count": 49,
   "id": "7d0c686b",
   "metadata": {},
   "outputs": [
    {
     "data": {
      "text/plain": [
       "{'asake': 'loaded',\n",
       " 'seyi vibez': 'ku fa ya kun',\n",
       " 'wizkid': 'balance',\n",
       " 'tobi': '1 track',\n",
       " 'nates': 'love more',\n",
       " 'bella shumrda': 'vision 2020',\n",
       " 'Adele': 'somethings'}"
      ]
     },
     "execution_count": 49,
     "metadata": {},
     "output_type": "execute_result"
    }
   ],
   "source": [
    "Artist['Adele'] = 'somethings'\n",
    "Artist"
   ]
  },
  {
   "cell_type": "code",
   "execution_count": 26,
   "id": "1269b01b",
   "metadata": {},
   "outputs": [
    {
     "name": "stdout",
     "output_type": "stream",
     "text": [
      "('captain', True)\n",
      "argentina\n"
     ]
    },
    {
     "data": {
      "text/plain": [
       "{}"
      ]
     },
     "execution_count": 26,
     "metadata": {},
     "output_type": "execute_result"
    }
   ],
   "source": [
    "# removing \n",
    "# popitem()\n",
    "# pop()\n",
    "# clear()\n",
    "\n",
    "\n",
    "world_cup_2022 = {'name': 'messi',\n",
    "                 'country':'argentina',\n",
    "                 'jersey num': 10,\n",
    "                 'goal_scored':6,\n",
    "                 'assisted goals':False,\n",
    "                 'strong foot':'left',\n",
    "                  'captain':True\n",
    "                  \n",
    "}\n",
    "print(world_cup_2022.popitem()) # it removes the last item\n",
    "print(world_cup_2022.pop('country')) # it removes the key in the parameter\n",
    "world_cup_2022.clear()\n",
    "world_cup_2022"
   ]
  },
  {
   "cell_type": "code",
   "execution_count": null,
   "id": "c0597142",
   "metadata": {},
   "outputs": [],
   "source": []
  }
 ],
 "metadata": {
  "kernelspec": {
   "display_name": "Python 3 (ipykernel)",
   "language": "python",
   "name": "python3"
  },
  "language_info": {
   "codemirror_mode": {
    "name": "ipython",
    "version": 3
   },
   "file_extension": ".py",
   "mimetype": "text/x-python",
   "name": "python",
   "nbconvert_exporter": "python",
   "pygments_lexer": "ipython3",
   "version": "3.9.13"
  }
 },
 "nbformat": 4,
 "nbformat_minor": 5
}
