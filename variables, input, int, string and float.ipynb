{
 "cells": [
  {
   "cell_type": "code",
   "execution_count": 1,
   "id": "f4e244b6",
   "metadata": {},
   "outputs": [
    {
     "data": {
      "text/plain": [
       "17"
      ]
     },
     "execution_count": 1,
     "metadata": {},
     "output_type": "execute_result"
    }
   ],
   "source": [
    "# Above the print(7 + 10), add the comment\n",
    "# Addition\n",
    "7 + 10"
   ]
  },
  {
   "cell_type": "code",
   "execution_count": null,
   "id": "e7074c48",
   "metadata": {},
   "outputs": [],
   "source": [
    "#Python is a pretty versatile language. For which applications can you use Python?\n",
    "All of the above.\n"
   ]
  },
  {
   "cell_type": "code",
   "execution_count": 2,
   "id": "ae2fe063",
   "metadata": {},
   "outputs": [
    {
     "data": {
      "text/plain": [
       "194.87171000000012"
      ]
     },
     "execution_count": 2,
     "metadata": {},
     "output_type": "execute_result"
    }
   ],
   "source": [
    "# Suppose you have $100, which you can invest with a 10% return each year. After one year 100 *1.1 = 110, it's \n",
    "#  dollars, and after two years it's 100 *1.1*1.1=121\n",
    "# . Add code to calculate how much money you end up with after 7 years, and print the result.\n",
    "# # How much is your $100 worth after 7 years?\n",
    "100*1.1**7"
   ]
  },
  {
   "cell_type": "code",
   "execution_count": 3,
   "id": "b07a1ce7",
   "metadata": {},
   "outputs": [
    {
     "data": {
      "text/plain": [
       "100"
      ]
     },
     "execution_count": 3,
     "metadata": {},
     "output_type": "execute_result"
    }
   ],
   "source": [
    "# Create a variable savings with the value 100.\n",
    "# Check out this variable by typing print(savings) in the script.\n",
    "savings = 100\n",
    "savings"
   ]
  },
  {
   "cell_type": "code",
   "execution_count": 4,
   "id": "33a61bd7",
   "metadata": {},
   "outputs": [
    {
     "data": {
      "text/plain": [
       "194.87171000000012"
      ]
     },
     "execution_count": 4,
     "metadata": {},
     "output_type": "execute_result"
    }
   ],
   "source": [
    "# Create a variable growth_multiplier, equal to 1.1.\n",
    "# Create a variable, result, equal to the amount of money you saved after 7 years.\n",
    "# Print out the value of result.\n",
    "growth_multiplier =1.1\n",
    "result = 194.87171000000012\n",
    "result"
   ]
  },
  {
   "cell_type": "code",
   "execution_count": null,
   "id": "1bf672a2",
   "metadata": {},
   "outputs": [],
   "source": [
    "# Create a new string, desc, with the value \"compound interest\".\n",
    "# Create a new boolean, profitable, with the value True.\n",
    "desc = \"compound interest\"\n",
    "profitable = True"
   ]
  },
  {
   "cell_type": "code",
   "execution_count": 5,
   "id": "68e03726",
   "metadata": {},
   "outputs": [
    {
     "name": "stdout",
     "output_type": "stream",
     "text": [
      "<class 'float'>\n"
     ]
    },
    {
     "data": {
      "text/plain": [
       "'compound interest compound interest'"
      ]
     },
     "execution_count": 5,
     "metadata": {},
     "output_type": "execute_result"
    }
   ],
   "source": [
    "# Calculate the product of savings and growth_multiplier. Store the result in year1.\n",
    "# What do you think the resulting type will be? Find out by printing out the type of year1.\n",
    "# Calculate the sum of desc and desc and store the result in a new variable doubledesc.\n",
    "# Print out doubledesc. Did you expect this?\n",
    "savings = 100\n",
    "growth_multiplier = 1.1\n",
    "desc = \"compound interest\"\n",
    "\n",
    "# Assign product of savings and growth_multiplier to year1\n",
    "year1 = savings * growth_multiplier\n",
    "\n",
    "\n",
    "# Print the type of year1\n",
    "print(type(year1))\n",
    "\n",
    "# Assign sum of desc and desc to doubledesc\n",
    "doubledesc = \"compound interest \" + \"compound interest\"\n",
    "\n",
    "# Print out doubledesc\n",
    "doubledesc"
   ]
  },
  {
   "cell_type": "code",
   "execution_count": 18,
   "id": "3e608372",
   "metadata": {},
   "outputs": [
    {
     "name": "stdout",
     "output_type": "stream",
     "text": [
      "I started with $100 and now have $194.87171000000012. Awesome!\n"
     ]
    }
   ],
   "source": [
    "# Hit Run Code to run the code. Try to understand the error message.\n",
    "# Fix the code such that the printout runs without errors; use the function str() to convert the variables to strings.\n",
    "# Convert the variable pi_string to a float and store this float as a new variable, pi_float.\n",
    "# Definition of savings and result\n",
    "savings = 100\n",
    "result = 100 * 1.10 ** 7\n",
    "\n",
    "# Fix the printout\n",
    "print(\"I started with $\" + str(savings) + \" and now have $\" + str(result) + \". Awesome!\")\n",
    "\n",
    "# Definition of pi_string\n",
    "pi_string = \"3.1415926\"\n",
    "\n",
    "# Convert pi_string into float: pi_float\n",
    "pi_float = float(\"3.1415926\")\n"
   ]
  },
  {
   "cell_type": "code",
   "execution_count": 27,
   "id": "d802fd4b",
   "metadata": {},
   "outputs": [
    {
     "name": "stdout",
     "output_type": "stream",
     "text": [
      "what is your usernameTobi\n",
      "hello Tobi\n"
     ]
    }
   ],
   "source": [
    "username = input('what is your username')\n",
    "print('hello '+ username )"
   ]
  },
  {
   "cell_type": "code",
   "execution_count": 36,
   "id": "4f76b817",
   "metadata": {},
   "outputs": [
    {
     "name": "stdout",
     "output_type": "stream",
     "text": [
      "what year were you born2003\n",
      "your age is: 20\n"
     ]
    }
   ],
   "source": [
    "age = int(input('what year were you born'))\n",
    "birth_year = 2023 - age\n",
    "print('your age is:',birth_year)"
   ]
  },
  {
   "cell_type": "code",
   "execution_count": 41,
   "id": "a1f1daa2",
   "metadata": {},
   "outputs": [
    {
     "name": "stdout",
     "output_type": "stream",
     "text": [
      "20\n",
      "ratio is: 2.0\n"
     ]
    }
   ],
   "source": [
    "num = int(input())\n",
    "num2 = 10\n",
    "num_all = num/num2\n",
    "print('ratio is:', num_all)"
   ]
  },
  {
   "cell_type": "code",
   "execution_count": 49,
   "id": "062c228a",
   "metadata": {},
   "outputs": [
    {
     "name": "stdout",
     "output_type": "stream",
     "text": [
      "60\n",
      "12.0\n"
     ]
    }
   ],
   "source": [
    "num1 = 2\n",
    "num2 = 10\n",
    "num3 = 22\n",
    "num4 -37\n",
    "num5 = 11\n",
    "sum_num = num1+num2+num3+num4+num5\n",
    "print(sum_num)\n",
    "average = sum_num/5\n",
    "print(average)"
   ]
  },
  {
   "cell_type": "code",
   "execution_count": 3,
   "id": "1d58de69",
   "metadata": {},
   "outputs": [
    {
     "name": "stdout",
     "output_type": "stream",
     "text": [
      "23 20\n"
     ]
    }
   ],
   "source": [
    "input1 = 23\n",
    "input2 =20\n",
    "temp_input = input1\n",
    "input1 = input2\n",
    "print(temp_input,input2)"
   ]
  },
  {
   "cell_type": "code",
   "execution_count": 47,
   "id": "a64ba9ad",
   "metadata": {},
   "outputs": [
    {
     "name": "stdout",
     "output_type": "stream",
     "text": [
      "\"lord\"\n",
      "you're welcome,the day is \"sunny\"\n",
      "\n"
     ]
    }
   ],
   "source": [
    "var = 'jojo'\n",
    "vara = \"class\"\n",
    "string_quote ='\\\"lord\\\"'\n",
    "print(string_quote)\n",
    "triple_string = '''you\\'re welcome,the day is \\\"sunny\\\"\n",
    "'''\n",
    "print(triple_string)"
   ]
  },
  {
   "cell_type": "code",
   "execution_count": 51,
   "id": "35ad36ec",
   "metadata": {},
   "outputs": [
    {
     "name": "stdout",
     "output_type": "stream",
     "text": [
      "abcdefgh\n"
     ]
    }
   ],
   "source": [
    "t = \"a\"\n",
    "s1 = 'abcd'\n",
    "s2 = 'efgh'\n",
    "s3 = s1 + s2\n",
    "print(s3)"
   ]
  },
  {
   "cell_type": "code",
   "execution_count": null,
   "id": "4cb4b8ad",
   "metadata": {},
   "outputs": [],
   "source": [
    "#data types\n",
    "(1) define each data \n",
    " integer are whole numbers without decimal point  e.g = 34,7,54,9,3\n",
    " float are numbers with decimal point e.g 5.7,0.2,1.1\n",
    "string are sequence of elements , it is represented by single quote or double quote e.g 'hello',\"welcome\"\n",
    "(2) 3 = integer\n",
    "    6.0 = float\n",
    "    '3.14159'= string\n",
    "    4.5 = float\n",
    "    'hello' = string\n",
    "     math.pi = error"
   ]
  },
  {
   "cell_type": "code",
   "execution_count": 12,
   "id": "784fd0c7",
   "metadata": {},
   "outputs": [
    {
     "name": "stdout",
     "output_type": "stream",
     "text": [
      "<class 'int'>\n",
      "<class 'float'>\n",
      "<class 'float'>\n",
      "<class 'float'>\n",
      "<class 'str'>\n"
     ]
    },
    {
     "data": {
      "text/plain": [
       "str"
      ]
     },
     "execution_count": 12,
     "metadata": {},
     "output_type": "execute_result"
    }
   ],
   "source": [
    "print(type(3+7))\n",
    "print(type(5+6.0)) \n",
    "print(type(6/3.0))\n",
    "print(type(6.0 //3.0))\n",
    "print(type('py'+'thon'))\n",
    "type('high '+ str(5))"
   ]
  },
  {
   "cell_type": "code",
   "execution_count": null,
   "id": "44b69259",
   "metadata": {},
   "outputs": [],
   "source": [
    "# variables\n",
    "# Acceptable v \n",
    "_count\n",
    "AGE\n",
    "num\n",
    "FiRsTnAmE = variables are case sensitive\n",
    "card_2\n",
    "# unacceptable v \n",
    "card 2 =  u can't be seperated with a space instead u use underscore to seperare \n",
    "2nd_card = variables doesn't start with a number\n",
    "lambda = u can't name a variable with a function name\n",
    "\n"
   ]
  },
  {
   "cell_type": "code",
   "execution_count": 14,
   "id": "89a66c5f",
   "metadata": {},
   "outputs": [],
   "source": [
    "#rename the values with a suitable variable name\n",
    "number_of_cards = \"the number of cards dealt to a player\"\n",
    "monthly_salary = \"An employee's monthly salary\"\n",
    "sum_of_value = \" the sum of the value rolled by two dice.\"\n",
    "temperature = \"the temprature on a hot summer day.\"\n"
   ]
  },
  {
   "cell_type": "code",
   "execution_count": 16,
   "id": "9bfccbfe",
   "metadata": {},
   "outputs": [
    {
     "data": {
      "text/plain": [
       "2"
      ]
     },
     "execution_count": 16,
     "metadata": {},
     "output_type": "execute_result"
    }
   ],
   "source": [
    "k= 7\n",
    "k += 3\n",
    "k *= 2\n",
    "k -= 5\n",
    "k //= 6\n",
    "k"
   ]
  },
  {
   "cell_type": "code",
   "execution_count": null,
   "id": "7472b50d",
   "metadata": {},
   "outputs": [],
   "source": [
    "number = 8\n",
    "Number += 1 \n",
    "python is case sensitive number != Number"
   ]
  },
  {
   "cell_type": "code",
   "execution_count": 19,
   "id": "15507cf3",
   "metadata": {},
   "outputs": [
    {
     "data": {
      "text/plain": [
       "'hello,world'"
      ]
     },
     "execution_count": 19,
     "metadata": {},
     "output_type": "execute_result"
    }
   ],
   "source": [
    "v = 'hello,world'\n",
    "v.strip()"
   ]
  }
 ],
 "metadata": {
  "kernelspec": {
   "display_name": "Python 3 (ipykernel)",
   "language": "python",
   "name": "python3"
  },
  "language_info": {
   "codemirror_mode": {
    "name": "ipython",
    "version": 3
   },
   "file_extension": ".py",
   "mimetype": "text/x-python",
   "name": "python",
   "nbconvert_exporter": "python",
   "pygments_lexer": "ipython3",
   "version": "3.9.13"
  }
 },
 "nbformat": 4,
 "nbformat_minor": 5
}
